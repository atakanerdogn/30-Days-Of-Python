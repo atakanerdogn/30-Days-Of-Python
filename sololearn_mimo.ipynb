{
  "nbformat": 4,
  "nbformat_minor": 0,
  "metadata": {
    "colab": {
      "provenance": [],
      "authorship_tag": "ABX9TyOtOf6p1JpJthE36ktC7hUU",
      "include_colab_link": true
    },
    "kernelspec": {
      "name": "python3",
      "display_name": "Python 3"
    },
    "language_info": {
      "name": "python"
    }
  },
  "cells": [
    {
      "cell_type": "markdown",
      "metadata": {
        "id": "view-in-github",
        "colab_type": "text"
      },
      "source": [
        "<a href=\"https://colab.research.google.com/github/atakanerdogn/30-Days-Of-Python/blob/master/sololearn_mimo.ipynb\" target=\"_parent\"><img src=\"https://colab.research.google.com/assets/colab-badge.svg\" alt=\"Open In Colab\"/></a>"
      ]
    },
    {
      "cell_type": "code",
      "execution_count": null,
      "metadata": {
        "colab": {
          "base_uri": "https://localhost:8080/"
        },
        "id": "Q6VWd0Ng6Nf5",
        "outputId": "198f3cbd-e73a-44e7-8e15-735ea7c4ba4e"
      },
      "outputs": [
        {
          "output_type": "stream",
          "name": "stdout",
          "text": [
            "Out of range\n",
            "Happy reading!\n"
          ]
        }
      ],
      "source": [
        "books = ['Harry Potter','Dune', 'Emma']\n",
        "try:\n",
        "  print(books[5])\n",
        "except IndexError:\n",
        "  print(\"Out of range\")\n",
        "finally:\n",
        "  print(\"Happy reading!\")"
      ]
    },
    {
      "cell_type": "code",
      "source": [
        "product =\"TV\":\n",
        "try:\n",
        "  print(product)\n",
        "except:\n",
        "  print(\"Error\")"
      ],
      "metadata": {
        "colab": {
          "base_uri": "https://localhost:8080/",
          "height": 111
        },
        "id": "sqtk3Dwq6sZT",
        "outputId": "8c12c506-127f-4ce8-ce6e-ac6bd10660b9"
      },
      "execution_count": null,
      "outputs": [
        {
          "output_type": "error",
          "ename": "SyntaxError",
          "evalue": "invalid syntax (<ipython-input-7-3b1ba323d51a>, line 1)",
          "traceback": [
            "\u001b[0;36m  File \u001b[0;32m\"<ipython-input-7-3b1ba323d51a>\"\u001b[0;36m, line \u001b[0;32m1\u001b[0m\n\u001b[0;31m    product =\"TV\":\u001b[0m\n\u001b[0m                 ^\u001b[0m\n\u001b[0;31mSyntaxError\u001b[0m\u001b[0;31m:\u001b[0m invalid syntax\n"
          ]
        }
      ]
    },
    {
      "cell_type": "code",
      "source": [
        "def shout(text):\n",
        "  return text.upper()\n",
        "yell = shout\n",
        "print(yell(\"Hello\"))"
      ],
      "metadata": {
        "colab": {
          "base_uri": "https://localhost:8080/"
        },
        "id": "e9BlTrhd7fjG",
        "outputId": "b53567bd-499c-4cce-e6d9-b1e510bccd03"
      },
      "execution_count": null,
      "outputs": [
        {
          "output_type": "stream",
          "name": "stdout",
          "text": [
            "HELLO\n"
          ]
        }
      ]
    },
    {
      "cell_type": "code",
      "source": [
        "def order(dish):\n",
        "  return \"Your order: \" + dish\n",
        "\n",
        "def process_order(dish,func):\n",
        "  print(func(dish))"
      ],
      "metadata": {
        "id": "salhNdcg7p4n"
      },
      "execution_count": null,
      "outputs": []
    },
    {
      "cell_type": "code",
      "source": [
        "fruits = [\"apple\", \"banana\", \"cherry\", \"elderebrry\"]\n",
        "fruits_filt = list(filter(lambda x: 'a' in x, fruits))"
      ],
      "metadata": {
        "id": "QfIXL-Uy7-NV"
      },
      "execution_count": null,
      "outputs": []
    },
    {
      "cell_type": "code",
      "source": [
        "class Car:\n",
        "  def __init__(self, brand, color):\n",
        "    self.brand = brand\n",
        "    self.color = color\n",
        "\n",
        "my_car = Car('Audi', 'yellow')\n",
        "print(my_car)"
      ],
      "metadata": {
        "colab": {
          "base_uri": "https://localhost:8080/"
        },
        "id": "6FEX0M4AAnI8",
        "outputId": "0de02ee0-87e8-48f3-e5e4-45b6cf34dddd"
      },
      "execution_count": null,
      "outputs": [
        {
          "output_type": "stream",
          "name": "stdout",
          "text": [
            "<__main__.Car object at 0x7c66d94d8fd0>\n"
          ]
        }
      ]
    },
    {
      "cell_type": "code",
      "source": [
        "class Car:\n",
        "  def __init__(self,brand,color):\n",
        "    self.brand = brand\n",
        "    self.color = color\n",
        "\n",
        "  def honk(self):\n",
        "    print(\"beep, beep!\")\n",
        "\n",
        "my_car = Car('Audi', 'Yellow')\n",
        "my_car.honk()"
      ],
      "metadata": {
        "colab": {
          "base_uri": "https://localhost:8080/"
        },
        "id": "awUJ4743B1mI",
        "outputId": "b729c2df-94a9-4bf3-8bb2-ac06620fc72d"
      },
      "execution_count": null,
      "outputs": [
        {
          "output_type": "stream",
          "name": "stdout",
          "text": [
            "beep, beep!\n"
          ]
        }
      ]
    },
    {
      "cell_type": "code",
      "source": [
        "class Animal:\n",
        "  def __init__(self,name):\n",
        "    self.name = name\n",
        "\n",
        "  def move(self):\n",
        "    print(\"Moving\")\n",
        "\n",
        "class Dog(Animal):\n",
        "  def bark(self):\n",
        "    print(\"Woof!\")\n",
        "\n",
        "my_dog = Dog(\"Bob\")\n",
        "print(my_dog.name)\n",
        "my_dog.move()\n",
        "\n",
        "my_dog.bark()"
      ],
      "metadata": {
        "colab": {
          "base_uri": "https://localhost:8080/"
        },
        "id": "9ozo103uCeZj",
        "outputId": "c13c9d11-e7f1-4997-9299-ec3ba351ddaf"
      },
      "execution_count": null,
      "outputs": [
        {
          "output_type": "stream",
          "name": "stdout",
          "text": [
            "Bob\n",
            "Moving\n",
            "Woof!\n"
          ]
        }
      ]
    },
    {
      "cell_type": "code",
      "source": [
        "class Animal:\n",
        "  def __init__(self,name):\n",
        "    self.name = name\n",
        "\n",
        "    def move(self):\n",
        "      print(\"Moving\")\n",
        "\n",
        "class Dog(Animal):\n",
        "    def __init__(self, name, breed, age):\n",
        "      super().__init__(name)\n",
        "      self.breed = breed\n",
        "      self.age = age\n",
        "\n",
        "      def bark(self):\n",
        "        print(\"Woof!\")\n",
        "\n",
        "my_dog = Dog(\"Jax\", \"Bulldog\", 5)\n",
        "print(my_dog.breed)\n",
        "print(my_dog.age)"
      ],
      "metadata": {
        "colab": {
          "base_uri": "https://localhost:8080/"
        },
        "id": "RLS8PnVSDGFL",
        "outputId": "95ad4b62-778d-4d01-b874-123bd029724d"
      },
      "execution_count": null,
      "outputs": [
        {
          "output_type": "stream",
          "name": "stdout",
          "text": [
            "Bulldog\n",
            "5\n"
          ]
        }
      ]
    },
    {
      "cell_type": "code",
      "source": [
        "def __read_balance(self):\n",
        "  print(self.balance)"
      ],
      "metadata": {
        "id": "eXhjnN6NDxP_"
      },
      "execution_count": null,
      "outputs": []
    },
    {
      "cell_type": "code",
      "source": [
        "class Book:\n",
        "  def __init__(self, title,author):\n",
        "    self.title = title\n",
        "    self.author = author\n",
        "\n",
        "  def describe_book(self):\n",
        "    print(self.title, 'by', self.author)\n",
        "\n",
        "  @classmethod\n",
        "  def books_in_series(cls,series_name,number_of_books):\n",
        "    print('There are', number_of_books,'books in the', series_name, 'series')\n",
        "my_book = Book('Harry Potter', 'J.K. Rowling')\n",
        "my_book.describe_book()\n",
        "Book.books_in_series('Harry Potter', 7)"
      ],
      "metadata": {
        "id": "6aoYbHV8MBED"
      },
      "execution_count": null,
      "outputs": []
    },
    {
      "cell_type": "code",
      "source": [
        "class SportsCar(Car):\n",
        "  def __init__(self, make,model,top_speed):\n",
        "    super().__init__(make,model)\n",
        "    self.top_speed = top_speed"
      ],
      "metadata": {
        "id": "5hG-DHvHNsBH"
      },
      "execution_count": null,
      "outputs": []
    },
    {
      "cell_type": "code",
      "source": [
        "from re import I\n",
        "def total(numbers):\n",
        "  result = 0\n",
        "  for i in numbers:\n",
        "    result += i\n",
        "  return result\n",
        "\n",
        "nums = [1,2,3,4,5]\n",
        "print(total(nums))"
      ],
      "metadata": {
        "colab": {
          "base_uri": "https://localhost:8080/"
        },
        "id": "BCDYs_suPgQf",
        "outputId": "cbc73da0-8cd6-4447-980c-8de14a01c200"
      },
      "execution_count": null,
      "outputs": [
        {
          "output_type": "stream",
          "name": "stdout",
          "text": [
            "15\n"
          ]
        }
      ]
    },
    {
      "cell_type": "code",
      "source": [
        "def sign_up(user):\n",
        "  status = user + \" signed up\"\n",
        "  return status\n",
        "\n",
        "result = sign_up(\"ali\")\n",
        "print(result)"
      ],
      "metadata": {
        "colab": {
          "base_uri": "https://localhost:8080/"
        },
        "id": "qupBo0gqf4Jh",
        "outputId": "49e1349c-f37a-47ca-b711-c7c163b3e105"
      },
      "execution_count": null,
      "outputs": [
        {
          "output_type": "stream",
          "name": "stdout",
          "text": [
            "ali signed up\n"
          ]
        }
      ]
    },
    {
      "cell_type": "code",
      "source": [
        "a = input(\"Enter the mail: \")\n",
        "def create_email(a):\n",
        "  return a\n",
        "\n",
        "email = create_email(a)\n",
        "print(email)\n",
        "\n",
        "#oyle bir program yaz ki, kisilerin maillerini otomatik olarak ayirsin hotmail gmail diye,"
      ],
      "metadata": {
        "colab": {
          "base_uri": "https://localhost:8080/"
        },
        "id": "BsYDeeKMgLli",
        "outputId": "77539bbf-5a91-45fb-b960-7f47512874aa"
      },
      "execution_count": null,
      "outputs": [
        {
          "output_type": "stream",
          "name": "stdout",
          "text": [
            "Enter the mail: atakan@outlook.com\n",
            "atakan@outlook.com\n"
          ]
        }
      ]
    },
    {
      "cell_type": "code",
      "source": [
        "def sign_up(user):\n",
        "  status = user + \" signed up\"\n",
        "  return status\n",
        "\n",
        "print(sign_up(\"Jo\"))"
      ],
      "metadata": {
        "colab": {
          "base_uri": "https://localhost:8080/"
        },
        "id": "YLTqf4BDoDxF",
        "outputId": "9f76bb78-a6a3-436b-dccd-8249302e6087"
      },
      "execution_count": null,
      "outputs": [
        {
          "output_type": "stream",
          "name": "stdout",
          "text": [
            "Jo signed up\n"
          ]
        }
      ]
    },
    {
      "cell_type": "code",
      "source": [
        "def get_area(height):\n",
        "  width = 26;\n",
        "  return width * height\n",
        "\n",
        "  print(f\"Rechtangle area: {get_area(100)}\");\n"
      ],
      "metadata": {
        "id": "ZgWALUhcofrr"
      },
      "execution_count": null,
      "outputs": []
    },
    {
      "cell_type": "code",
      "source": [
        "shipping = 20\n",
        "\n",
        "def calculate_total(cart):\n",
        "  print(cart + shipping)\n",
        "\n",
        "calculate_total(64)"
      ],
      "metadata": {
        "colab": {
          "base_uri": "https://localhost:8080/"
        },
        "id": "EamSAOSotGl6",
        "outputId": "8cd52713-b724-416c-fd7a-8fe7cd8392ec"
      },
      "execution_count": null,
      "outputs": [
        {
          "output_type": "stream",
          "name": "stdout",
          "text": [
            "84\n"
          ]
        }
      ]
    },
    {
      "cell_type": "code",
      "source": [
        "def add_shipping(cart):\n",
        "  if cart < 100:\n",
        "    print(f\"Total: {cart + shipping}\")\n",
        "  else:\n",
        "    print(f\"Total: {cart}\")\n",
        "  add_shipping(45)"
      ],
      "metadata": {
        "id": "MkQQ3nDGtyUZ"
      },
      "execution_count": null,
      "outputs": []
    },
    {
      "cell_type": "code",
      "source": [
        "def display_programme(movies):\n",
        "  print(f\"Airing tonight: {movies}\")\n",
        "\n",
        "movie_list = [\"Alien\", \"Moon\"]\n",
        "display_programme(movie_list)"
      ],
      "metadata": {
        "colab": {
          "base_uri": "https://localhost:8080/"
        },
        "id": "kP62laTMz6g0",
        "outputId": "0461f362-0454-4b76-8f1d-d98f833985bb"
      },
      "execution_count": null,
      "outputs": [
        {
          "output_type": "stream",
          "name": "stdout",
          "text": [
            "Airing tonight: ['Alien', 'Moon']\n"
          ]
        }
      ]
    },
    {
      "cell_type": "code",
      "source": [
        "def display_programme(movies):\n",
        "  print(\"Airing tonight:\")\n",
        "  print(movies)\n",
        "\n",
        "movie_list = [\"Alien\", \"Moon\"]\n",
        "display_programme(movie_list)"
      ],
      "metadata": {
        "colab": {
          "base_uri": "https://localhost:8080/"
        },
        "id": "0fWdOdzR0Tgh",
        "outputId": "b229e198-dedc-413a-f847-2a5217d7ce51"
      },
      "execution_count": null,
      "outputs": [
        {
          "output_type": "stream",
          "name": "stdout",
          "text": [
            "Airing tonight:\n",
            "['Alien', 'Moon']\n"
          ]
        }
      ]
    },
    {
      "cell_type": "code",
      "source": [
        "def count_passengers(passengers):\n",
        "  print(len(passengers))\n",
        "\n",
        "passengers = [\"Ali\", \"Veli\", \"Ahmet\"]\n",
        "count_passengers(passengers)"
      ],
      "metadata": {
        "colab": {
          "base_uri": "https://localhost:8080/"
        },
        "id": "AWFl8BsY0yNq",
        "outputId": "5b891904-c046-4c50-ad51-acd3dfbc82b0"
      },
      "execution_count": null,
      "outputs": [
        {
          "output_type": "stream",
          "name": "stdout",
          "text": [
            "3\n"
          ]
        }
      ]
    },
    {
      "cell_type": "code",
      "source": [
        "def get_winner(top_players):\n",
        "  winner = top_players[0]\n",
        "  print(f\"Game winner: {winner}\")\n",
        "\n",
        "top_players = [\"Jay\",\"Meg\", \"yaaramin cy\"]\n",
        "get_winner(top_players)"
      ],
      "metadata": {
        "colab": {
          "base_uri": "https://localhost:8080/"
        },
        "id": "50K0PKL-1Dvg",
        "outputId": "78915468-6cee-427b-e54c-c1c87b08e0ec"
      },
      "execution_count": null,
      "outputs": [
        {
          "output_type": "stream",
          "name": "stdout",
          "text": [
            "Game winner: Jay\n"
          ]
        }
      ]
    },
    {
      "cell_type": "code",
      "source": [
        "def update_first_place(leaderboard, player):\n",
        "  leaderboard[0] = player\n",
        "  return leaderboard\n",
        "\n",
        "leaderboard = [\"Jay\",\"Meg\", \"yaaramin cy\"]\n",
        "update_first_place(leaderboard, \"Ali\")\n",
        "print(leaderboard)"
      ],
      "metadata": {
        "id": "lob36Ub61YKT"
      },
      "execution_count": null,
      "outputs": []
    },
    {
      "cell_type": "code",
      "source": [
        "def update_first_place(leaderboard, player):\n",
        "  leaderboard[0] = player\n",
        "  return leaderboard\n",
        "\n",
        "leaderboard = [\"Jay\",\"Meg\", \"yaaramin cy\"]\n",
        "update_first_place(leaderboard, \"Ali\")\n",
        "print(leaderboard)\n",
        "\n",
        "## cokomelli >> how to pass a list into a fnction\n"
      ],
      "metadata": {
        "id": "tK1TenDM166O"
      },
      "execution_count": null,
      "outputs": []
    },
    {
      "cell_type": "code",
      "source": [
        "def set_initials(names, initial):\n",
        "  names[0] = initial\n",
        "  print(names)\n",
        "\n",
        "author_names = [\"Francis\",\"Scott\", \"Fitzgerald\"]\n",
        "set_initials(author_names, \"F.\")"
      ],
      "metadata": {
        "colab": {
          "base_uri": "https://localhost:8080/"
        },
        "id": "FfkVeq9k2Ka2",
        "outputId": "722ffc6a-8848-40c4-d3d3-fdc76f3b5d03"
      },
      "execution_count": null,
      "outputs": [
        {
          "output_type": "stream",
          "name": "stdout",
          "text": [
            "['F.', 'Scott', 'Fitzgerald']\n"
          ]
        }
      ]
    },
    {
      "cell_type": "code",
      "source": [
        "def onboard_passengers(bookings):\n",
        "  counter = 1\n",
        "  while counter <= bookings:\n",
        "    print(f\"Passenger {counter} on board\")\n",
        "    counter += 1\n",
        "\n",
        "onboard_passengers(4)"
      ],
      "metadata": {
        "colab": {
          "base_uri": "https://localhost:8080/"
        },
        "id": "lWiP59hQHK99",
        "outputId": "e6d3ecbf-bb8b-46d0-f4d9-995f319c402b"
      },
      "execution_count": null,
      "outputs": [
        {
          "output_type": "stream",
          "name": "stdout",
          "text": [
            "Passenger 1 on board\n",
            "Passenger 2 on board\n",
            "Passenger 3 on board\n",
            "Passenger 4 on board\n"
          ]
        }
      ]
    },
    {
      "cell_type": "code",
      "source": [
        "alarm_time = 7\n",
        "\n",
        "def set_alarm():\n",
        "  print(f\"New alarm set for {alarm_time} AM\")\n",
        "\n",
        "set_alarm()\n",
        "\n"
      ],
      "metadata": {
        "colab": {
          "base_uri": "https://localhost:8080/"
        },
        "id": "4KJi7h9TPvEB",
        "outputId": "14db5068-75a8-415f-cf43-a5c056f8b41e"
      },
      "execution_count": null,
      "outputs": [
        {
          "output_type": "stream",
          "name": "stdout",
          "text": [
            "New alarm set for 7 AM\n"
          ]
        }
      ]
    },
    {
      "cell_type": "code",
      "source": [
        "def get_scores_data(scores_list):\n",
        "  highest_score = max(scores_list)\n",
        "  lowest_score = min(scores_list)\n",
        "  return highest_score, lowest_score\n"
      ],
      "metadata": {
        "id": "HWn4m6mxkF59"
      },
      "execution_count": null,
      "outputs": []
    },
    {
      "cell_type": "code",
      "source": [
        "ticket = { \"seat no\": 25, \"fitst class\": False}\n",
        "ticket[\"first class\"] = True\n",
        "print(ticket)"
      ],
      "metadata": {
        "colab": {
          "base_uri": "https://localhost:8080/"
        },
        "id": "ZIkW4tKKm-Hk",
        "outputId": "8ac3afb8-52bd-4eab-a653-409d018c87b5"
      },
      "execution_count": null,
      "outputs": [
        {
          "output_type": "stream",
          "name": "stdout",
          "text": [
            "{'seat no': 25, 'fitst class': False, 'first class': True}\n"
          ]
        }
      ]
    },
    {
      "cell_type": "code",
      "source": [
        "participants = {\n",
        "    \"Meg\": True,\n",
        "    \"Kim\": False,\n",
        "    \"Luis\": True,\n",
        "    \"Luis M.\": False\n",
        "}\n",
        "\n",
        "meg = participants[\"Meg\"]\n",
        "print(meg)"
      ],
      "metadata": {
        "colab": {
          "base_uri": "https://localhost:8080/"
        },
        "id": "iVD8EZUWn9j8",
        "outputId": "c7d31339-5925-4e57-a01f-dbf938fd2ba1"
      },
      "execution_count": null,
      "outputs": [
        {
          "output_type": "stream",
          "name": "stdout",
          "text": [
            "True\n"
          ]
        }
      ]
    },
    {
      "cell_type": "code",
      "source": [
        "contents = {\n",
        "    \"ch.1\": \"A long expected paarty\",\n",
        "    \"ch.2\": \"The shadow of the past\",\n",
        "    \"ch.3\": \"Three is company\"\n",
        "}\n",
        "for chapter in contents:\n",
        "  print(contents[chapter])\n",
        "\n"
      ],
      "metadata": {
        "id": "WtMyjSrNoRUn"
      },
      "execution_count": null,
      "outputs": []
    },
    {
      "cell_type": "code",
      "source": [
        "toppings = {\n",
        "    \"olives\": True,\n",
        "    \"mushrooms\": True,\n",
        "    \"onions\": False,\n",
        "    \"extra cheese\": False\n",
        "}\n",
        "toppings [\"olives\"] = False\n",
        "print(toppings)"
      ],
      "metadata": {
        "colab": {
          "base_uri": "https://localhost:8080/"
        },
        "id": "jGBpXNhWpJUc",
        "outputId": "a040ad25-5be6-4d13-a850-5212a0d03e30"
      },
      "execution_count": null,
      "outputs": [
        {
          "output_type": "stream",
          "name": "stdout",
          "text": [
            "{'olives': False, 'mushrooms': True, 'onions': False, 'extra cheese': False}\n"
          ]
        }
      ]
    },
    {
      "cell_type": "code",
      "source": [
        "routine = {\n",
        "    \"squats\": 40,\n",
        "    \"push ups\": 10,\n",
        "}\n",
        "routine[\"lunges\"] = 30\n",
        "print(routine)"
      ],
      "metadata": {
        "colab": {
          "base_uri": "https://localhost:8080/"
        },
        "id": "c9rVVMV4p0ql",
        "outputId": "c4a98f3b-b576-4fe3-bf2e-4cae8d1b8db1"
      },
      "execution_count": null,
      "outputs": [
        {
          "output_type": "stream",
          "name": "stdout",
          "text": [
            "{'squats': 40, 'push ups': 10, 'lunges': 30}\n"
          ]
        }
      ]
    },
    {
      "cell_type": "code",
      "source": [
        "stock = {\n",
        "    \"dresses\": 25,\n",
        "    \"t-shirts\": 15,\n",
        "    \"skirts\": 20\n",
        "}\n",
        "if \"jeans\" in stock:\n",
        "  stock.pop(\"jeans\")\n",
        "\n",
        "print(stock)"
      ],
      "metadata": {
        "colab": {
          "base_uri": "https://localhost:8080/"
        },
        "id": "vIvPNm7uqyKF",
        "outputId": "68e014e7-662b-4d98-a18a-92bbf1852570"
      },
      "execution_count": null,
      "outputs": [
        {
          "output_type": "stream",
          "name": "stdout",
          "text": [
            "{'dresses': 25, 't-shirts': 15, 'skirts': 20}\n"
          ]
        }
      ]
    },
    {
      "cell_type": "code",
      "source": [
        "scoops = {\n",
        "    \"vanilla\": 2,\n",
        "    \"chocolate\": 1,\n",
        "    \"strawberry\": 5\n",
        "}\n",
        "vanilla = scoops.pop(\"vanilla\")\n",
        "print(vanilla)"
      ],
      "metadata": {
        "colab": {
          "base_uri": "https://localhost:8080/"
        },
        "id": "-8n4CWzGrn8f",
        "outputId": "0a3efa18-138a-4f6f-fe00-cd82e8841a18"
      },
      "execution_count": null,
      "outputs": [
        {
          "output_type": "stream",
          "name": "stdout",
          "text": [
            "2\n"
          ]
        }
      ]
    },
    {
      "cell_type": "code",
      "source": [
        "import statistics as st\n",
        "scores = [4,5,6,7,8,9,0,7]\n",
        "mean = st.mean(scores)\n",
        "print(f\"Mean: {mean}\")"
      ],
      "metadata": {
        "colab": {
          "base_uri": "https://localhost:8080/"
        },
        "id": "lw_BsiTV6Tdh",
        "outputId": "ffc97c09-9948-487e-a2a3-9a3b32276228"
      },
      "execution_count": null,
      "outputs": [
        {
          "output_type": "stream",
          "name": "stdout",
          "text": [
            "Mean: 5.75\n"
          ]
        }
      ]
    },
    {
      "cell_type": "code",
      "source": [
        "prices = [10,20,30,40,50]\n",
        "halved = []\n",
        "\n",
        "for price in  prices:\n",
        "  half_price = price / 2\n",
        "  halved.append(half_price)\n",
        "\n",
        "print(halved)\n",
        "\n",
        "#######################\n",
        "\n",
        "prices = [10,20,30,40,50]\n",
        "halved = [price / 2 for price in prices]\n",
        "print(halved)\n"
      ],
      "metadata": {
        "colab": {
          "base_uri": "https://localhost:8080/"
        },
        "id": "nBlUo_BvRpuj",
        "outputId": "482c82cd-3901-41c4-904f-dfb4a7051623"
      },
      "execution_count": null,
      "outputs": [
        {
          "output_type": "stream",
          "name": "stdout",
          "text": [
            "[5.0, 10.0, 15.0, 20.0, 25.0]\n",
            "[5.0, 10.0, 15.0, 20.0, 25.0]\n"
          ]
        }
      ]
    },
    {
      "cell_type": "code",
      "source": [
        "def getDistance(mph, h):\n",
        "  return mph * h\n",
        "\n",
        "mph = 60\n",
        "h = 2\n",
        "\n",
        "distance = getDistance(mph, h)\n",
        "print(getDistance)"
      ],
      "metadata": {
        "colab": {
          "base_uri": "https://localhost:8080/"
        },
        "id": "I1BD2CFAu2tq",
        "outputId": "f7a07d17-3364-4355-d3d8-fb3bc7b39f96"
      },
      "execution_count": null,
      "outputs": [
        {
          "output_type": "stream",
          "name": "stdout",
          "text": [
            "<function getDistance at 0x7cdab80d43a0>\n"
          ]
        }
      ]
    },
    {
      "cell_type": "code",
      "source": [
        "# encapsulated code samples\n",
        "#1\n",
        "class Car:\n",
        "  color = 'red'\n",
        "  on = False\n",
        "  def start(self):\n",
        "    self.on = True\n",
        "\n",
        "#2\n",
        "class Person:\n",
        "  name = `Mike`\n",
        "  def greet(self):\n",
        "    print(`Hi There!`)"
      ],
      "metadata": {
        "id": "1jW4w-Hdx0nc"
      },
      "execution_count": null,
      "outputs": []
    },
    {
      "cell_type": "code",
      "source": [
        "class Car:\n",
        "  manufacturer = \"Ferrari\"\n",
        "  model = 2019\n",
        "  color = \"red\""
      ],
      "metadata": {
        "id": "nZEEyYuzju9P"
      },
      "execution_count": null,
      "outputs": []
    }
  ]
}